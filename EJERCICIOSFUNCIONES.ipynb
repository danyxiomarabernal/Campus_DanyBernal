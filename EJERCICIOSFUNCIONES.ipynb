{
  "nbformat": 4,
  "nbformat_minor": 0,
  "metadata": {
    "colab": {
      "provenance": [],
      "authorship_tag": "ABX9TyN62+AJnCf2HuSaycY/Ga19",
      "include_colab_link": true
    },
    "kernelspec": {
      "name": "python3",
      "display_name": "Python 3"
    },
    "language_info": {
      "name": "python"
    }
  },
  "cells": [
    {
      "cell_type": "markdown",
      "metadata": {
        "id": "view-in-github",
        "colab_type": "text"
      },
      "source": [
        "<a href=\"https://colab.research.google.com/github/danyxiomarabernal/Campus_DanyBernal/blob/main/EJERCICIOSFUNCIONES.ipynb\" target=\"_parent\"><img src=\"https://colab.research.google.com/assets/colab-badge.svg\" alt=\"Open In Colab\"/></a>"
      ]
    },
    {
      "cell_type": "code",
      "source": [
        "def calcular_propina(monto_cuenta,calidad_servicio):\n",
        "  if calidad_servicio == \"buena\":\n",
        "    return monto_cuenta * 0.20\n",
        "  elif calidad_servicio == \"aceptable\":\n",
        "    return monto_cuenta * 0.15\n",
        "  elif calidad_servicio == \"mala\":\n",
        "    return monto_cuenta * 0.10\n",
        "  else:\n",
        "    return \"calidad del servicio no valida\"\n",
        "\n",
        "monto_cuenta = 50.0\n",
        "calidad_servicio = \"buena\"\n",
        "propina = calcular_propina(monto_cuenta,calidad_servicio)\n",
        "print(f\"propina a recibir: ${propina}\")"
      ],
      "metadata": {
        "colab": {
          "base_uri": "https://localhost:8080/"
        },
        "id": "1J2l2WvYQdhy",
        "outputId": "8da48f49-ad33-469a-f3ba-5db898c80c74"
      },
      "execution_count": 9,
      "outputs": [
        {
          "output_type": "stream",
          "name": "stdout",
          "text": [
            "propina a recibir: $10.0\n"
          ]
        }
      ]
    },
    {
      "source": [
        "def calcular_propina():\n",
        "  monto_cuenta=input(\"ingrese el monto de la cuenta: $\")\n",
        "  calidad_servicio=input(\"calidad del servicio(buena,aceptable,mala):\").lower()\n",
        "  if monto_cuenta.replace(\".\",\"\", 1).isdigit():\n",
        "    monto_cuenta=float(monto_cuenta)\n",
        "    if calidad_servicio in [\"buena\",\"aceptable\",\"mala\"]:\n",
        "      propina=monto_cuenta*(0.20 if calidad_servicio == \"buena\" else 0.15 if calidad_servicio == \"aceptable\" else 0.10)\n",
        "      print(\"propina a dejar: ${propina}\")\n",
        "    else:\n",
        "      print(\"calidad del servicio no valida. Favor digite buena, aceptable o mala\")\n",
        "  else:\n",
        "    print(\"ingrese un monto valido\")\n",
        "calcular_propina()"
      ],
      "cell_type": "code",
      "metadata": {
        "id": "YcIbNtSIYk_I"
      },
      "execution_count": null,
      "outputs": []
    }
  ]
}