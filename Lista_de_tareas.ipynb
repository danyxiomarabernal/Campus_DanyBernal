{
  "nbformat": 4,
  "nbformat_minor": 0,
  "metadata": {
    "colab": {
      "provenance": [],
      "authorship_tag": "ABX9TyM+f7zQQsDHdUOMxQbQLP+I",
      "include_colab_link": true
    },
    "kernelspec": {
      "name": "python3",
      "display_name": "Python 3"
    },
    "language_info": {
      "name": "python"
    }
  },
  "cells": [
    {
      "cell_type": "markdown",
      "metadata": {
        "id": "view-in-github",
        "colab_type": "text"
      },
      "source": [
        "<a href=\"https://colab.research.google.com/github/danyxiomarabernal/Campus_DanyBernal/blob/main/Lista_de_tareas.ipynb\" target=\"_parent\"><img src=\"https://colab.research.google.com/assets/colab-badge.svg\" alt=\"Open In Colab\"/></a>"
      ]
    },
    {
      "cell_type": "code",
      "execution_count": 4,
      "metadata": {
        "colab": {
          "base_uri": "https://localhost:8080/"
        },
        "id": "cK-hQIoyLDfq",
        "outputId": "fa46e136-688e-47d8-d9b4-df319643eee1"
      },
      "outputs": [
        {
          "output_type": "stream",
          "name": "stdout",
          "text": [
            "Bienvenido\n",
            "Por favor ingrese su nombre: dany\n",
            "¡Hola, dany! Es un gusto tenerte en nuestro block de tareas\n"
          ]
        }
      ],
      "source": [
        "print(\"Bienvenido\")\n",
        "nombre = input(\"Por favor ingrese su nombre: \")\n",
        "print(\"¡Hola, {}! Es un gusto tenerte en nuestro block de tareas\".format(nombre))\n",
        "\n",
        "lista_tareas = []"
      ]
    },
    {
      "cell_type": "code",
      "source": [
        "# Bienvenida al usuario\n",
        "print(\"¡Bienvenido! a su block de tareas\")\n",
        "\n",
        "# Solicitar el nombre del usuario\n",
        "nombre_usuario = input(\"Por favor, ingrese su nombre: \")\n",
        "\n",
        "# Saludar al usuario usando su nombre\n",
        "print(f\"¡Hola, {nombre_usuario}! Es un placer tenerte aquí.\")\n",
        "\n",
        "# Inicialización de la lista de tareas\n",
        "lista_tareas = []\n",
        "\n",
        "# Función para añadir tarea\n",
        "def añadir_tarea(nombre_tarea, prioridad=5):\n",
        "    # Verificar si la tarea ya existe\n",
        "    for tarea in lista_tareas:\n",
        "        if tarea['nombre'] == nombre_tarea:\n",
        "            print(f\"La tarea '{nombre_tarea}' ya existe. No se puede añadir de nuevo.\")\n",
        "            return\n",
        "\n",
        "    tarea = {'nombre': nombre_tarea, 'prioridad': prioridad}\n",
        "    lista_tareas.append(tarea)\n",
        "    print(f\"Tarea '{nombre_tarea}' añadida con prioridad {prioridad}.\")\n",
        "\n",
        "# Función para mostrar tareas\n",
        "def mostrar_tareas():\n",
        "    if not lista_tareas:\n",
        "        print(\"su lista de tareas está vacía.\")\n",
        "    else:\n",
        "        print(\"Tareas pendientes:\")\n",
        "        for tarea in sorted(lista_tareas, key=lambda x: x['prioridad'], reverse=True):\n",
        "            print(f\"- {tarea['nombre']} (Prioridad: {tarea['prioridad']})\")\n",
        "\n",
        "# Función para eliminar tarea\n",
        "def eliminar_tarea(nombre_tarea):\n",
        "    # Verificar si la tarea existe antes de intentar eliminarla\n",
        "    for tarea in lista_tareas:\n",
        "        if tarea['nombre'] == nombre_tarea:\n",
        "            lista_tareas.remove(tarea)\n",
        "            print(f\"Tarea '{nombre_tarea}' eliminada.\")\n",
        "            return\n",
        "\n",
        "    print(f\"No se encontró la tarea '{nombre_tarea}'. No se puede eliminar.\")\n",
        "\n",
        "# Bucle principal\n",
        "while True:\n",
        "    print(\"\\nMenú:\")\n",
        "    print(\"1. Añadir una nueva tarea.\")\n",
        "    print(\"2. Mostrar todas las tareas pendientes.\")\n",
        "    print(\"3. Eliminar una tarea.\")\n",
        "    print(\"4. Salir del programa.\")\n",
        "\n",
        "    opcion = input(\"Por favor, selecciona una opción (1-4): \")\n",
        "\n",
        "    if opcion == '1':\n",
        "        nombre_tarea = input(\"ingrese el nombre de la nueva tarea: \")\n",
        "        prioridad_tarea = int(input(\"digite la prioridad de la tarea (por defecto es 5): \"))\n",
        "        añadir_tarea(nombre_tarea, prioridad_tarea)\n",
        "    elif opcion == '2':\n",
        "        mostrar_tareas()\n",
        "    elif opcion == '3':\n",
        "        nombre_tarea_eliminar = input(\"Ingrese el nombre de la tarea que deseas eliminar: \")\n",
        "        eliminar_tarea(nombre_tarea_eliminar)\n",
        "    elif opcion == '4':\n",
        "        print(\"Saliendo del programa. ¡Hasta luego!\")\n",
        "        break\n",
        "    else:\n",
        "        print(\"Opción no válida. Por favor, selecciona una opción válida.\")\n"
      ],
      "metadata": {
        "colab": {
          "base_uri": "https://localhost:8080/"
        },
        "id": "Co8PDEOzPRYh",
        "outputId": "551977d1-0a9d-4792-f9e0-517201bdfee8"
      },
      "execution_count": null,
      "outputs": [
        {
          "output_type": "stream",
          "name": "stdout",
          "text": [
            "¡Bienvenido! Soy tu asistente en Python.\n",
            "Por favor, introduce tu nombre: dany\n",
            "¡Hola, dany! Es un placer tenerte aquí.\n",
            "\n",
            "Menú:\n",
            "1. Añadir una nueva tarea.\n",
            "2. Mostrar todas las tareas pendientes.\n",
            "3. Eliminar una tarea.\n",
            "4. Salir del programa.\n",
            "Por favor, selecciona una opción (1-4): 1\n",
            "Introduce el nombre de la nueva tarea: etica\n",
            "Introduce la prioridad de la tarea (por defecto es 5): 4\n",
            "Tarea 'etica' añadida con prioridad 4.\n",
            "\n",
            "Menú:\n",
            "1. Añadir una nueva tarea.\n",
            "2. Mostrar todas las tareas pendientes.\n",
            "3. Eliminar una tarea.\n",
            "4. Salir del programa.\n",
            "Por favor, selecciona una opción (1-4): 2\n",
            "Tareas pendientes:\n",
            "- etica (Prioridad: 4)\n",
            "\n",
            "Menú:\n",
            "1. Añadir una nueva tarea.\n",
            "2. Mostrar todas las tareas pendientes.\n",
            "3. Eliminar una tarea.\n",
            "4. Salir del programa.\n",
            "Por favor, selecciona una opción (1-4): 3\n",
            "Introduce el nombre de la tarea que deseas eliminar: español\n",
            "No se encontró la tarea 'español'. No se puede eliminar.\n",
            "\n",
            "Menú:\n",
            "1. Añadir una nueva tarea.\n",
            "2. Mostrar todas las tareas pendientes.\n",
            "3. Eliminar una tarea.\n",
            "4. Salir del programa.\n"
          ]
        }
      ]
    }
  ]
}