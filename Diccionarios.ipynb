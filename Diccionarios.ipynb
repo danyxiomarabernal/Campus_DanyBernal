{
  "nbformat": 4,
  "nbformat_minor": 0,
  "metadata": {
    "colab": {
      "provenance": [],
      "authorship_tag": "ABX9TyPMI/7JD7KL01P3S2ay4OiO",
      "include_colab_link": true
    },
    "kernelspec": {
      "name": "python3",
      "display_name": "Python 3"
    },
    "language_info": {
      "name": "python"
    }
  },
  "cells": [
    {
      "cell_type": "markdown",
      "metadata": {
        "id": "view-in-github",
        "colab_type": "text"
      },
      "source": [
        "<a href=\"https://colab.research.google.com/github/danyxiomarabernal/Campus_DanyBernal/blob/main/Diccionarios.ipynb\" target=\"_parent\"><img src=\"https://colab.research.google.com/assets/colab-badge.svg\" alt=\"Open In Colab\"/></a>"
      ]
    },
    {
      "cell_type": "markdown",
      "source": [
        "EJERCICIO 1\n"
      ],
      "metadata": {
        "id": "9HNX9FFhV3JW"
      }
    },
    {
      "cell_type": "code",
      "source": [
        "edades = {\n",
        "    'Dany': 18,\n",
        "    'Xiomara': 16,\n",
        "    'Kathe': 15,\n",
        "    'Alexandra': 17,\n",
        "    'Laura':19,\n",
        "    'Diego': 20\n",
        "}\n",
        "edades"
      ],
      "metadata": {
        "colab": {
          "base_uri": "https://localhost:8080/"
        },
        "id": "UP8FJLkwV7S2",
        "outputId": "dcb3a984-cc78-42ba-e124-957d4efd1484"
      },
      "execution_count": 4,
      "outputs": [
        {
          "output_type": "execute_result",
          "data": {
            "text/plain": [
              "{'Dany': 18,\n",
              " 'Xiomara': 16,\n",
              " 'Kathe': 15,\n",
              " 'Alexandra': 17,\n",
              " 'Laura': 19,\n",
              " 'Diego': 20}"
            ]
          },
          "metadata": {},
          "execution_count": 4
        }
      ]
    },
    {
      "cell_type": "markdown",
      "source": [
        "EJERCICIO 2"
      ],
      "metadata": {
        "id": "x7ol0hgmV_zJ"
      }
    },
    {
      "cell_type": "code",
      "source": [
        "Diccionario = {'d1234': 'dany@gmail.com',\n",
        "               'x5678': 'bernal@gmail.com',\n",
        "               '01234': 'xiomy@gmail.com'}\n",
        "clave_deseada = '01234'\n",
        "valor_correspondiente =\n",
        "Diccionario.get(clave_deseada, 'Clave no encontrada')\n",
        "print(valor_correspondiente)"
      ],
      "metadata": {
        "colab": {
          "base_uri": "https://localhost:8080/",
          "height": 140
        },
        "id": "mxQuAEbJWBdA",
        "outputId": "5ae6a303-68c5-44c1-dbde-c69cb6c81ae4"
      },
      "execution_count": 10,
      "outputs": [
        {
          "output_type": "error",
          "ename": "SyntaxError",
          "evalue": "invalid syntax (<ipython-input-10-e5250308b329>, line 5)",
          "traceback": [
            "\u001b[0;36m  File \u001b[0;32m\"<ipython-input-10-e5250308b329>\"\u001b[0;36m, line \u001b[0;32m5\u001b[0m\n\u001b[0;31m    valor_correspondiente =\u001b[0m\n\u001b[0m                            ^\u001b[0m\n\u001b[0;31mSyntaxError\u001b[0m\u001b[0;31m:\u001b[0m invalid syntax\n"
          ]
        }
      ]
    },
    {
      "cell_type": "markdown",
      "source": [
        "EJERCICIO 3"
      ],
      "metadata": {
        "id": "bl0LCF3UcGOH"
      }
    },
    {
      "cell_type": "code",
      "source": [
        "Diccionario = {'d1234': 'dany@gmail.com',\n",
        "               'x5678': 'bernal@gmail.com',\n",
        "               '01234': 'xiomy@gmail.com'}\n",
        "\n",
        "nueva_clave = '22222'\n",
        "nuevo_valor = 'danyuuu@gmail.com'\n",
        "Diccionario[nueva_clave] = nuevo_valor\n",
        "print(Diccionario)"
      ],
      "metadata": {
        "colab": {
          "base_uri": "https://localhost:8080/"
        },
        "id": "z94nl9STcI8-",
        "outputId": "17c8ecf2-4b0f-42d5-dd4d-35ad044279f3"
      },
      "execution_count": 13,
      "outputs": [
        {
          "output_type": "stream",
          "name": "stdout",
          "text": [
            "{'d1234': 'dany@gmail.com', 'x5678': 'bernal@gmail.com', '01234': 'xiomy@gmail.com', '22222': 'danyuuu@gmail.com'}\n"
          ]
        }
      ]
    },
    {
      "cell_type": "markdown",
      "source": [
        "EJERCICIO 4"
      ],
      "metadata": {
        "id": "Lqg1AKq7dO71"
      }
    },
    {
      "cell_type": "code",
      "source": [
        "Diccionario = {'d1234': 'dany@gmail.com',\n",
        "               'x5678': 'bernal@gmail.com',\n",
        "               '01234': 'xiomy@gmail.com'}\n",
        "\n",
        "clave_existente = '01234'\n",
        "nuevo_valor = 'daxy@gmail.com'\n",
        "Diccionario[clave_existente] = nuevo_valor\n",
        "print(Diccionario)"
      ],
      "metadata": {
        "colab": {
          "base_uri": "https://localhost:8080/"
        },
        "id": "GPsZIlZ-dR0b",
        "outputId": "6b0739a9-f7d5-4bea-9130-a475550705d2"
      },
      "execution_count": 16,
      "outputs": [
        {
          "output_type": "stream",
          "name": "stdout",
          "text": [
            "{'d1234': 'dany@gmail.com', 'x5678': 'bernal@gmail.com', '01234': 'daxy@gmail.com'}\n"
          ]
        }
      ]
    },
    {
      "cell_type": "markdown",
      "source": [
        "EJERCICIO 5"
      ],
      "metadata": {
        "id": "YMQcO1MneHMX"
      }
    },
    {
      "cell_type": "code",
      "source": [
        "Diccionario = {'d1234': 'dany@gmail.com',\n",
        "               'x5678': 'bernal@gmail.com',\n",
        "               '01234': 'xiomy@gmail.com'}\n",
        "\n",
        "clave_a_eliminar = 'd1234'\n",
        "del Diccionario[clave_a_eliminar]\n",
        "print(Diccionario)"
      ],
      "metadata": {
        "colab": {
          "base_uri": "https://localhost:8080/"
        },
        "id": "N9t2kvm9eJfB",
        "outputId": "508451f7-afc2-4bea-97fa-720ba3fac697"
      },
      "execution_count": 17,
      "outputs": [
        {
          "output_type": "stream",
          "name": "stdout",
          "text": [
            "{'x5678': 'bernal@gmail.com', '01234': 'xiomy@gmail.com'}\n"
          ]
        }
      ]
    },
    {
      "cell_type": "markdown",
      "source": [
        "EJERCICIO 6"
      ],
      "metadata": {
        "id": "9KHOl4XQelYw"
      }
    },
    {
      "cell_type": "code",
      "source": [
        "Diccionario = {'d1234': 'dany@gmail.com',\n",
        "               'x5678': 'bernal@gmail.com',\n",
        "               '01234': 'xiomy@gmail.com'}\n",
        "lista_de_claves = list(Diccionario.keys())\n",
        "print(lista_de_claves)"
      ],
      "metadata": {
        "colab": {
          "base_uri": "https://localhost:8080/"
        },
        "id": "_0qrl1gLeolu",
        "outputId": "39fee68a-8339-4c37-a964-8a56b14353c8"
      },
      "execution_count": 18,
      "outputs": [
        {
          "output_type": "stream",
          "name": "stdout",
          "text": [
            "['d1234', 'x5678', '01234']\n"
          ]
        }
      ]
    },
    {
      "cell_type": "markdown",
      "source": [
        "EJERCICIO 7"
      ],
      "metadata": {
        "id": "7o-Ne9KAfFmZ"
      }
    },
    {
      "cell_type": "code",
      "source": [
        "Diccionario = {'d1234': 'dany@gmail.com',\n",
        "               'x5678': 'bernal@gmail.com',\n",
        "               '01234': 'xiomy@gmail.com'}\n",
        "lista_valores = list(Diccionario.values())\n",
        "print(lista_valores)"
      ],
      "metadata": {
        "colab": {
          "base_uri": "https://localhost:8080/"
        },
        "id": "IfEQh1O8fHdW",
        "outputId": "49c48acc-11cd-40e5-cba7-bc89b06fd64f"
      },
      "execution_count": 19,
      "outputs": [
        {
          "output_type": "stream",
          "name": "stdout",
          "text": [
            "['dany@gmail.com', 'bernal@gmail.com', 'xiomy@gmail.com']\n"
          ]
        }
      ]
    },
    {
      "cell_type": "markdown",
      "source": [
        "EJERCICIO 8"
      ],
      "metadata": {
        "id": "FXDwLp8VfdcF"
      }
    },
    {
      "cell_type": "code",
      "source": [
        "Diccionario = {'d1234': 'dany@gmail.com',\n",
        "               'x5678': 'bernal@gmail.com',\n",
        "               '01234': 'xiomy@gmail.com'}\n",
        "clave_verificar = '01234'\n",
        "if clave_verificar in Diccionario:\n",
        "  print(f\"clave '{clave_verificar}' existe en el Diccionario\")\n",
        "else:\n",
        "  print(f\"Clave '{clave_verificar}' no existe en el Diccionario\")"
      ],
      "metadata": {
        "colab": {
          "base_uri": "https://localhost:8080/"
        },
        "id": "GZi0Y_OUffAq",
        "outputId": "29eb7f99-3a2f-4dbe-96c7-c55f6d006927"
      },
      "execution_count": 24,
      "outputs": [
        {
          "output_type": "stream",
          "name": "stdout",
          "text": [
            "clave '01234' existe en el Diccionario\n"
          ]
        }
      ]
    },
    {
      "cell_type": "markdown",
      "source": [
        "EJERCICIO 9"
      ],
      "metadata": {
        "id": "F_-ds3k7h80s"
      }
    },
    {
      "cell_type": "code",
      "source": [
        "Diccionario = {'d1234': 'dany@gmail.com',\n",
        "               'x5678': 'bernal@gmail.com',\n",
        "               '01234': 'xiomy@gmail.com'}\n",
        "for clave, valor in Diccionario.items():\n",
        "  print(f\"Clave: {clave}, Valor: {valor}\")"
      ],
      "metadata": {
        "colab": {
          "base_uri": "https://localhost:8080/"
        },
        "id": "n0TQBnSHh_Cd",
        "outputId": "02e1d5d2-e5fe-4bcc-fad5-b07dd54b5214"
      },
      "execution_count": 25,
      "outputs": [
        {
          "output_type": "stream",
          "name": "stdout",
          "text": [
            "Clave: d1234, Valor: dany@gmail.com\n",
            "Clave: x5678, Valor: bernal@gmail.com\n",
            "Clave: 01234, Valor: xiomy@gmail.com\n"
          ]
        }
      ]
    },
    {
      "cell_type": "markdown",
      "source": [
        "EJERCICIO 10"
      ],
      "metadata": {
        "id": "vwI1ymg9k3Gi"
      }
    },
    {
      "cell_type": "code",
      "source": [
        "contactos = {'Dany': {'tellefono': '3118904237',\n",
        "                      'correo': 'danybernal@gmail.com',\n",
        "                      'direccion': 'barrio palomas 2',\n",
        "                      'edad': '18'},\n",
        "           'Alexandra':{ 'telefono': '3213146569',\n",
        "                        'correo': 'alexa@gmail.com',\n",
        "                         'direccion': 'calle 4 # 123',\n",
        "                         'edad': '17'} }\n",
        "contactos"
      ],
      "metadata": {
        "colab": {
          "base_uri": "https://localhost:8080/"
        },
        "id": "6ImEsNo2k5eT",
        "outputId": "29bbfe6f-497c-4003-928a-de9e2a69fca0"
      },
      "execution_count": 28,
      "outputs": [
        {
          "output_type": "execute_result",
          "data": {
            "text/plain": [
              "{'Dany': {'tellefono': '3118904237',\n",
              "  'correo': 'danybernal@gmail.com',\n",
              "  'direccion': 'barrio palomas 2',\n",
              "  'edad': '18'},\n",
              " 'Alexandra': {'telefono': '3213146569',\n",
              "  'correo': 'alexa@gmail.com',\n",
              "  'direccion': 'calle 4 # 123',\n",
              "  'edad': '17'}}"
            ]
          },
          "metadata": {},
          "execution_count": 28
        }
      ]
    }
  ]
}