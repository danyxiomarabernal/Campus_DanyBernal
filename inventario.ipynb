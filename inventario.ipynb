{
  "nbformat": 4,
  "nbformat_minor": 0,
  "metadata": {
    "colab": {
      "provenance": [],
      "authorship_tag": "ABX9TyM4rFPhlpknycVIyXSgdpkV",
      "include_colab_link": true
    },
    "kernelspec": {
      "name": "python3",
      "display_name": "Python 3"
    },
    "language_info": {
      "name": "python"
    }
  },
  "cells": [
    {
      "cell_type": "markdown",
      "metadata": {
        "id": "view-in-github",
        "colab_type": "text"
      },
      "source": [
        "<a href=\"https://colab.research.google.com/github/danyxiomarabernal/Campus_DanyBernal/blob/main/inventario.ipynb\" target=\"_parent\"><img src=\"https://colab.research.google.com/assets/colab-badge.svg\" alt=\"Open In Colab\"/></a>"
      ]
    },
    {
      "source": [
        "def agregar_prod(inventario,nombre,cantidad,precio):\n",
        "  if nombre in inventario:\n",
        "    print(\"ya existe en el imventario\")\n",
        "  else:\n",
        "    inventario[nombre]={'cantidad': cantidad, 'precio': precio}\n",
        "    print(\"añadido al inventario\")\n",
        "\n",
        "def actualizar_cant(inventario,nombre,cantidad):\n",
        "  if nombre in inventario:\n",
        "    inventario[nombre]['cantidad']+= cantidad\n",
        "    print(\" cantidad actualizada correctamente\")\n",
        "  else:\n",
        "    print(\"el producto no existe en el inventario\")\n",
        "\n",
        "def mostrar_inv(inventario):\n",
        "  print(\"Inventario: \")\n",
        "  for nombre, detalles in inventario.items():\n",
        "    print(f\"producto:{nombre}, cantidad:{detalles['cantidad']},Precio:{detalles['precio']}\")\n"
      ],
      "cell_type": "code",
      "metadata": {
        "id": "L66RYRMffQtC"
      },
      "execution_count": 4,
      "outputs": []
    }
  ]
}