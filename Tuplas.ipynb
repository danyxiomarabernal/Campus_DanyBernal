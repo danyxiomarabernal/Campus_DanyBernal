{
  "nbformat": 4,
  "nbformat_minor": 0,
  "metadata": {
    "colab": {
      "provenance": [],
      "authorship_tag": "ABX9TyPpHyy6FzJf1qtRq16Qqxqu",
      "include_colab_link": true
    },
    "kernelspec": {
      "name": "python3",
      "display_name": "Python 3"
    },
    "language_info": {
      "name": "python"
    }
  },
  "cells": [
    {
      "cell_type": "markdown",
      "metadata": {
        "id": "view-in-github",
        "colab_type": "text"
      },
      "source": [
        "<a href=\"https://colab.research.google.com/github/danyxiomarabernal/Campus_DanyBernal/blob/main/Tuplas.ipynb\" target=\"_parent\"><img src=\"https://colab.research.google.com/assets/colab-badge.svg\" alt=\"Open In Colab\"/></a>"
      ]
    },
    {
      "cell_type": "code",
      "source": [
        "tupla = (1, 2, 3, 4, 5)\n",
        "longitud_tupla = len(tupla)\n",
        "\n",
        "print(\"longitud de la tupla es:\", longitud_tupla)\n"
      ],
      "metadata": {
        "colab": {
          "base_uri": "https://localhost:8080/"
        },
        "id": "54VH_MLPKWDz",
        "outputId": "37de8c20-6aaa-4000-bc33-8735b6160081"
      },
      "execution_count": 3,
      "outputs": [
        {
          "output_type": "stream",
          "name": "stdout",
          "text": [
            "longitud de la tupla es: 5\n"
          ]
        }
      ]
    },
    {
      "cell_type": "markdown",
      "source": [
        "EJERCCICIO 5\n"
      ],
      "metadata": {
        "id": "RQB5qKktKc_N"
      }
    },
    {
      "cell_type": "code",
      "source": [
        "tupla = (1, 2, 3, 4, 5, 6, 7)\n",
        "porcion_tupla = tupla[1:7]\n",
        "print(porcion_tupla)"
      ],
      "metadata": {
        "colab": {
          "base_uri": "https://localhost:8080/"
        },
        "id": "bN7pmaDYKkuQ",
        "outputId": "d6617a32-4127-46cf-de98-ade5b87a9bbf"
      },
      "execution_count": 4,
      "outputs": [
        {
          "output_type": "stream",
          "name": "stdout",
          "text": [
            "(2, 3, 4, 5, 6, 7)\n"
          ]
        }
      ]
    },
    {
      "cell_type": "markdown",
      "source": [
        "EJERCICIO 6"
      ],
      "metadata": {
        "id": "1_JGQan0Llup"
      }
    },
    {
      "cell_type": "code",
      "source": [
        "tupla = (10, 20, 30, 40, 50, 60, 70, 80)\n",
        "indice_elemento = tupla.index(40)\n",
        "print(indice_elemento)"
      ],
      "metadata": {
        "colab": {
          "base_uri": "https://localhost:8080/"
        },
        "id": "uC5PM2KkLpy9",
        "outputId": "be800c63-b8a0-4f3b-d0f0-c7806faa76f8"
      },
      "execution_count": 6,
      "outputs": [
        {
          "output_type": "stream",
          "name": "stdout",
          "text": [
            "3\n"
          ]
        }
      ]
    },
    {
      "cell_type": "markdown",
      "source": [
        "EJERCICIO 7"
      ],
      "metadata": {
        "id": "La8pd4EqMKPu"
      }
    },
    {
      "cell_type": "code",
      "source": [
        "tupla = ( 1, 1, 1, 2, 3, 2, 4, 7, 8)\n",
        "conteo = tupla.count(1)\n",
        "print(conteo)"
      ],
      "metadata": {
        "colab": {
          "base_uri": "https://localhost:8080/"
        },
        "id": "cy-yu1vZMNJD",
        "outputId": "3a4b3a42-880a-48a7-a9b0-0306df9589e6"
      },
      "execution_count": 7,
      "outputs": [
        {
          "output_type": "stream",
          "name": "stdout",
          "text": [
            "3\n"
          ]
        }
      ]
    },
    {
      "cell_type": "markdown",
      "source": [
        "EJERCICIO 8\n"
      ],
      "metadata": {
        "id": "Pw4Z_IioMp09"
      }
    },
    {
      "cell_type": "code",
      "source": [
        "tupla_anidada = ((1, 2, 3)), ('a', 'b', 'c'), (True, False, True)\n",
        "elemento = tupla_anidada[2][2]\n"
      ],
      "metadata": {
        "id": "c9r89_l7Mr8f"
      },
      "execution_count": 17,
      "outputs": []
    },
    {
      "cell_type": "markdown",
      "source": [
        "EJERCICIO 9"
      ],
      "metadata": {
        "id": "0pBGvsd9Nnlo"
      }
    },
    {
      "cell_type": "code",
      "source": [
        "tupla = (1, 2, 3, 4, 5, 6, 7, 8)\n",
        "elemento_a_buscar = 4\n",
        "\n",
        "if elemento_a_buscar in tupla:\n",
        "  print('{elemento_a_buscar} existe en tupla')\n",
        "else:\n",
        "  print('{elemento_a_buscar} no existe en tupla')"
      ],
      "metadata": {
        "colab": {
          "base_uri": "https://localhost:8080/"
        },
        "id": "iHbKlJMuNqya",
        "outputId": "08a91ebe-6eac-4157-b741-f30d71e7ba49"
      },
      "execution_count": 18,
      "outputs": [
        {
          "output_type": "stream",
          "name": "stdout",
          "text": [
            "{elemento_a_buscar} existe en tupla\n"
          ]
        }
      ]
    },
    {
      "cell_type": "markdown",
      "source": [
        "EJERCICIO 10"
      ],
      "metadata": {
        "id": "M99L6NTsO5_L"
      }
    },
    {
      "cell_type": "code",
      "source": [
        "numeros = (1, 2, 3, 4, 5, 6, 7, 8, 9)\n",
        "\n",
        "min_valor = min(numeros)\n",
        "max_valor = max(numeros)\n",
        "\n",
        "print('Minimo: {}'.format(min_valor))\n",
        "print('Maximo: {}'.format(max_valor))\n"
      ],
      "metadata": {
        "colab": {
          "base_uri": "https://localhost:8080/"
        },
        "id": "E7Vi_yRzO8CK",
        "outputId": "1b7ce9a5-862e-4dab-881c-2d18f80544c9"
      },
      "execution_count": 23,
      "outputs": [
        {
          "output_type": "stream",
          "name": "stdout",
          "text": [
            "Minimo: 1\n",
            "Maximo: 9\n"
          ]
        }
      ]
    }
  ]
}